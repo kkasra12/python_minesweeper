{
  "cells": [
    {
      "cell_type": "markdown",
      "metadata": {},
      "source": [
        "<p style=\"font-size: 20px;color:red\">Each function should have exact specified inputs and outputs.</p>"
      ]
    },
    {
      "cell_type": "code",
      "execution_count": 1,
      "metadata": {},
      "outputs": [],
      "source": [
        "from random import randint"
      ]
    },
    {
      "cell_type": "markdown",
      "metadata": {},
      "source": [
        "# MineSweeper 💣⛳️\n",
        "\n",
        "We will work around the classic game of MineSweeper. The game consists of a grid of squares, some of which contain mines. If you click on a square containing a mine, you lose. If you click on a square that doesn't contain a mine, you reveal the number of mines in the adjacent squares. The game is won when all squares without mines are revealed. For more info check the [Wikipedia page](https://en.wikipedia.org/wiki/Minesweeper_(video_game))."
      ]
    },
    {
      "cell_type": "markdown",
      "metadata": {},
      "source": [
        "# Implementation\n",
        "\n",
        "We will implement save the whole grid in a 2D array. Actually it will be a list of lists. Each cell will be a dictionary with the following keys:\n",
        "- `mine`: boolean, indicates if the cell contains a mine\n",
        "- `revealed`: boolean, indicates if the cell has been revealed\n",
        "- `adjacent_mines`: integer, indicates the number of mines in the adjacent cells\n",
        "- `flagged`: boolean, indicates if the cell has been flagged"
      ]
    },
    {
      "cell_type": "code",
      "execution_count": 2,
      "metadata": {},
      "outputs": [],
      "source": [
        "def create_plane_grid(n: int, m: int):\n",
        "    \"\"\"\n",
        "    Create a grid of cells with the specified dimensions and number of mines.\n",
        "    note: this function has a bug. Solve it [1 point]\n",
        "    \n",
        "    Parameters:\n",
        "    n (int): The number of rows in the grid.\n",
        "    m (int): The number of columns in the grid.\n",
        "    \n",
        "    Returns:\n",
        "    list: A 2D list representing the grid, where each element is a dictionary representing a cell.\n",
        "    \"\"\"\n",
        "    cell = {\"mine\": False, \"revealed\": False, \"flagged\": False, \"adjacent_mines\": 0}\n",
        "    grid = [[cell]*m]*n\n",
        "    return grid\n",
        "\n",
        "# ✏️ This function has a bug. Solve it (note: don't change the input or output format) [2 points].\n",
        "    "
      ]
    },
    {
      "cell_type": "code",
      "execution_count": 4,
      "metadata": {},
      "outputs": [],
      "source": [
        "def put_bombs(grid: list[list[dict]], bomb_count: int):\n",
        "    \"\"\"\n",
        "    Randomly place mines in the grid.\n",
        "\n",
        "    Parameters:\n",
        "    grid (list): A 2D list representing the grid, where each element is a dictionary representing a cell.\n",
        "    bomb_count (int): The number of mines to place in the grid.\n",
        "    \"\"\"\n",
        "    n = len(grid)\n",
        "    m = len(grid[0])\n",
        "    for _ in range(bomb_count):\n",
        "        i = randint(0, n-1)\n",
        "        j = randint(0, m-1)\n",
        "        grid[i][j][\"mine\"] = True\n",
        "        for x in range(max(0, i-1), min(n, i+2)):\n",
        "            for y in range(max(0, j-1), min(m, j+2)):\n",
        "                grid[x][y][\"adjacent_mines\"] += 1\n",
        "    return grid\n",
        "\n",
        "# ✏️ We can see some mines can overlap. Fix this bug [4 point]"
      ]
    },
    {
      "cell_type": "code",
      "execution_count": 5,
      "metadata": {},
      "outputs": [],
      "source": [
        "import random\n",
        "\n",
        "\n",
        "def put_bombs(grid: list[list[dict]], bomb_count: int):\n",
        "    \"\"\"\n",
        "    Randomly place mines in the grid.\n",
        "\n",
        "    Parameters:\n",
        "    grid (list): A 2D list representing the grid, where each element is a dictionary representing a cell.\n",
        "    bomb_count (int): The number of mines to place in the grid.\n",
        "    \"\"\"\n",
        "    n = len(grid)\n",
        "    m = len(grid[0])\n",
        "    rows = random.choices(range(n), k=bomb_count)\n",
        "    cols = random.choices(range(m), k=bomb_count)\n",
        "    for i, j in zip(rows, cols):\n",
        "        grid[i][j][\"mine\"] = True\n",
        "        for x in range(max(0, i-1), min(n, i+2)):\n",
        "            for y in range(max(0, j-1), min(m, j+2)):\n",
        "                grid[x][y][\"adjacent_mines\"] += 1\n",
        "    return grid"
      ]
    },
    {
      "cell_type": "code",
      "execution_count": 6,
      "metadata": {},
      "outputs": [
        {
          "data": {
            "text/plain": [
              "[[{'mine': True, 'revealed': False, 'flagged': False, 'adjacent_mines': 2},\n",
              "  {'mine': True, 'revealed': False, 'flagged': False, 'adjacent_mines': 4},\n",
              "  {'mine': False, 'revealed': False, 'flagged': False, 'adjacent_mines': 3},\n",
              "  {'mine': False, 'revealed': False, 'flagged': False, 'adjacent_mines': 2},\n",
              "  {'mine': False, 'revealed': False, 'flagged': False, 'adjacent_mines': 0}],\n",
              " [{'mine': False, 'revealed': False, 'flagged': False, 'adjacent_mines': 3},\n",
              "  {'mine': False, 'revealed': False, 'flagged': False, 'adjacent_mines': 5},\n",
              "  {'mine': True, 'revealed': False, 'flagged': False, 'adjacent_mines': 4},\n",
              "  {'mine': False, 'revealed': False, 'flagged': False, 'adjacent_mines': 2},\n",
              "  {'mine': False, 'revealed': False, 'flagged': False, 'adjacent_mines': 0}],\n",
              " [{'mine': False, 'revealed': False, 'flagged': False, 'adjacent_mines': 2},\n",
              "  {'mine': True, 'revealed': False, 'flagged': False, 'adjacent_mines': 4},\n",
              "  {'mine': False, 'revealed': False, 'flagged': False, 'adjacent_mines': 5},\n",
              "  {'mine': False, 'revealed': False, 'flagged': False, 'adjacent_mines': 3},\n",
              "  {'mine': False, 'revealed': False, 'flagged': False, 'adjacent_mines': 1}],\n",
              " [{'mine': False, 'revealed': False, 'flagged': False, 'adjacent_mines': 5},\n",
              "  {'mine': True, 'revealed': False, 'flagged': False, 'adjacent_mines': 5},\n",
              "  {'mine': False, 'revealed': False, 'flagged': False, 'adjacent_mines': 4},\n",
              "  {'mine': True, 'revealed': False, 'flagged': False, 'adjacent_mines': 1},\n",
              "  {'mine': False, 'revealed': False, 'flagged': False, 'adjacent_mines': 1}],\n",
              " [{'mine': True, 'revealed': False, 'flagged': False, 'adjacent_mines': 4},\n",
              "  {'mine': True, 'revealed': False, 'flagged': False, 'adjacent_mines': 4},\n",
              "  {'mine': False, 'revealed': False, 'flagged': False, 'adjacent_mines': 3},\n",
              "  {'mine': False, 'revealed': False, 'flagged': False, 'adjacent_mines': 1},\n",
              "  {'mine': False, 'revealed': False, 'flagged': False, 'adjacent_mines': 1}]]"
            ]
          },
          "execution_count": 6,
          "metadata": {},
          "output_type": "execute_result"
        }
      ],
      "source": [
        "grid = create_plane_grid(5, 5)\n",
        "grid = put_bombs(grid, 10)\n",
        "grid"
      ]
    },
    {
      "cell_type": "markdown",
      "metadata": {},
      "source": [
        "# Visualization 🎨\n",
        "Let's see how the grid will be represented:\n",
        "- `.`: unrevealed cell\n",
        "- `F`: flagged cell\n",
        "- `*`: mine\n",
        "- `0-8`: number of adjacent mines\n"
      ]
    },
    {
      "cell_type": "code",
      "execution_count": 7,
      "metadata": {},
      "outputs": [
        {
          "name": "stdout",
          "output_type": "stream",
          "text": [
            ". . . . . \n",
            ". . . . . \n",
            ". . . . . \n",
            ". . . . . \n",
            ". . . . . \n",
            "\n"
          ]
        }
      ],
      "source": [
        "UNREVEALED = '.'\n",
        "FLAGGED = 'F'\n",
        "MINE = 'X'\n",
        "NUMBERS = ' 12345678'\n",
        "# Spoiler alert: We will have much better visualization after learning the numpy library.\n",
        "def show(grid: list[list[dict]]):\n",
        "    \"\"\"\n",
        "    Display the grid.\n",
        "\n",
        "    Parameters:\n",
        "    grid (list): A 2D list representing the grid, where each element is a dictionary representing a cell.\n",
        "    \"\"\"\n",
        "    for row in grid:\n",
        "        for cell in row:\n",
        "            val = UNREVEALED\n",
        "            if cell[\"revealed\"]:\n",
        "                if cell[\"mine\"]:\n",
        "                    val = MINE\n",
        "                else:\n",
        "                    val = NUMBERS[cell[\"adjacent_mines\"]]\n",
        "            elif cell[\"flagged\"]:\n",
        "                val = FLAGGED\n",
        "            print(val, end=' ')\n",
        "        print()\n",
        "    print()\n",
        "show(grid)"
      ]
    },
    {
      "cell_type": "markdown",
      "metadata": {},
      "source": [
        "Question: What is the use of those `UNREVEALED`, `FLAGGED`, `MINE` and `NUMBER` constants?"
      ]
    },
    {
      "cell_type": "markdown",
      "metadata": {},
      "source": [
        "# Let's play 🎮\n",
        "\n",
        "Now we will implement a function that performs users actions on the grid.\n",
        "If player clicks on a cell with a zero adjacent mines, we will reveal all the adjacent cells untill we reach cells with adjacent mines.\n",
        " "
      ]
    },
    {
      "cell_type": "code",
      "execution_count": 8,
      "metadata": {},
      "outputs": [],
      "source": [
        "def move(grid: list[list[dict]], row: int, col: int, click: bool):\n",
        "    \"\"\"\n",
        "    Make a move in the grid.\n",
        "\n",
        "    Parameters:\n",
        "    grid (list): A 2D list representing the grid, where each element is a dictionary representing a cell.\n",
        "    row (int): The row of the cell to click.\n",
        "    col (int): The column of the cell to click.\n",
        "    click (bool): Whether to click or flag the cell. True for click, False for flag.\n",
        "\n",
        "    Returns:\n",
        "    bool: Whether the move resulted in a mine explosion.\n",
        "    \"\"\"\n",
        "    cell = grid[row][col]\n",
        "    if click:\n",
        "        if cell[\"flagged\"]:\n",
        "            # Don't reveal flagged cells\n",
        "            return False\n",
        "        if cell[\"mine\"]:\n",
        "            # Mine explosion return one bool and the updated grid\n",
        "            # ✏️ Your code here [0.5 point]\n",
        "            pass\n",
        "        cell[\"revealed\"] = True\n",
        "        if cell[\"adjacent_mines\"] == 0:\n",
        "            # If the cell has no adjacent mines, reveal all adjacent cells\n",
        "            # if you clicked on a cell with no adjacent mines, you should reveal all adjacent cells\n",
        "            # ✏️ Your code here [2 points]\n",
        "            pass\n",
        "    else:\n",
        "        # Toggle the flagged status of the cell\n",
        "        cell[\"flagged\"] = not cell[\"flagged\"]\n",
        "\n",
        "    # ✏️ Describe why we dont need to write: grid[row][col] = cell [0.5 point]\n",
        "    # ✏️ Describe why we dont need to return the grid [0.5 point]\n",
        "    return False"
      ]
    },
    {
      "cell_type": "markdown",
      "metadata": {},
      "source": [
        "## Main Loop 🔄"
      ]
    },
    {
      "cell_type": "code",
      "execution_count": 10,
      "metadata": {},
      "outputs": [],
      "source": [
        "def play(n: int, m: int, bomb_count: int):\n",
        "    \"\"\"\n",
        "    Play the game.\n",
        "    \"\"\"\n",
        "    grid = put_bombs(create_plane_grid(n, m), bomb_count)\n",
        "    show(grid)\n",
        "    while True:\n",
        "        row = int(input(\"Enter row: \"))\n",
        "        col = int(input(\"Enter col: \"))\n",
        "        click = input(\"Click or flag? (c/f): \") == 'c'\n",
        "        explosion = move(grid, row, col, click)\n",
        "        print(f\"{row=}, {col=}, {click=}\")\n",
        "        show(grid)\n",
        "        print(\"------------\")\n",
        "        if explosion:\n",
        "            print(\"Game over!\")\n",
        "            break\n",
        "# ✏️ handle player's wrong inputs [2 points]\n",
        "# ✏️ Add a win condition [1 point]\n",
        "# ✏️ Add a timer and at the end print the average time per move [4 points]\n"
      ]
    },
    {
      "cell_type": "code",
      "execution_count": 18,
      "metadata": {},
      "outputs": [
        {
          "name": "stdout",
          "output_type": "stream",
          "text": [
            ". . . . . \n",
            ". . . . . \n",
            ". . . . . \n",
            ". . . . . \n",
            ". . . . . \n",
            "\n",
            "row=0, col=0, click=True\n",
            "    1 . . \n",
            "1 1 1 . . \n",
            ". . . . . \n",
            ". . . . . \n",
            ". . . . . \n",
            "\n",
            "------------\n",
            "row=2, col=1, click=True\n",
            "    1 . . \n",
            "1 1 1 . . \n",
            ". 2 . . . \n",
            ". . . . . \n",
            ". . . . . \n",
            "\n",
            "------------\n",
            "row=2, col=2, click=True\n",
            "    1 . . \n",
            "1 1 1 2 . \n",
            ". 2   2 . \n",
            ". 2   2 . \n",
            ". 1   1 . \n",
            "\n",
            "------------\n",
            "row=4, col=0, click=True\n",
            "    1 . . \n",
            "1 1 1 2 . \n",
            ". 2   2 . \n",
            ". 2   2 . \n",
            "1 1   1 . \n",
            "\n",
            "------------\n",
            "row=0, col=4, click=True\n",
            "    1 . 1 \n",
            "1 1 1 2 . \n",
            ". 2   2 . \n",
            ". 2   2 . \n",
            "1 1   1 . \n",
            "\n",
            "------------\n",
            "row=1, col=4, click=True\n",
            "    1 . 1 \n",
            "1 1 1 2 2 \n",
            ". 2   2 . \n",
            ". 2   2 . \n",
            "1 1   1 . \n",
            "\n",
            "------------\n",
            "row=4, col=4, click=True\n",
            "    1 . 1 \n",
            "1 1 1 2 2 \n",
            ". 2   2 . \n",
            ". 2   2 . \n",
            "1 1   1 1 \n",
            "\n",
            "------------\n",
            "You win!, average time per move: 17.95580189568656\n"
          ]
        }
      ],
      "source": [
        "play(5, 5, 5)"
      ]
    },
    {
      "cell_type": "markdown",
      "metadata": {},
      "source": [
        "# Can Computer play the MineSweeper?\n",
        "do it as optional task"
      ]
    },
    {
      "cell_type": "code",
      "execution_count": null,
      "metadata": {},
      "outputs": [],
      "source": []
    }
  ],
  "metadata": {
    "kernelspec": {
      "display_name": "Python 3",
      "language": "python",
      "name": "python3"
    },
    "language_info": {
      "codemirror_mode": {
        "name": "ipython",
        "version": 3
      },
      "file_extension": ".py",
      "mimetype": "text/x-python",
      "name": "python",
      "nbconvert_exporter": "python",
      "pygments_lexer": "ipython3",
      "version": "3.11.4"
    }
  },
  "nbformat": 4,
  "nbformat_minor": 2
}